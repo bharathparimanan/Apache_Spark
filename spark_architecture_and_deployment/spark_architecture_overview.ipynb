{
 "cells": [
  {
   "cell_type": "markdown",
   "id": "6354d777-6bd8-4e19-96a1-dd8fbe7cd921",
   "metadata": {},
   "source": [
    "# Spark Architecture Overview\n",
    "writing PySpark code and understanding how Spark runs under the hood"
   ]
  },
  {
   "cell_type": "code",
   "execution_count": null,
   "id": "aeb2204d-7635-4b95-9c2f-8318afa159be",
   "metadata": {},
   "outputs": [],
   "source": []
  }
 ],
 "metadata": {
  "kernelspec": {
   "display_name": "Python [conda env:base] *",
   "language": "python",
   "name": "conda-base-py"
  },
  "language_info": {
   "codemirror_mode": {
    "name": "ipython",
    "version": 3
   },
   "file_extension": ".py",
   "mimetype": "text/x-python",
   "name": "python",
   "nbconvert_exporter": "python",
   "pygments_lexer": "ipython3",
   "version": "3.10.16"
  }
 },
 "nbformat": 4,
 "nbformat_minor": 5
}
