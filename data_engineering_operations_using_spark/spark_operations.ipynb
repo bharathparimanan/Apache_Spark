{
 "cells": [
  {
   "cell_type": "markdown",
   "id": "3c3f1c4c-22f0-4adc-823c-c6af997006e3",
   "metadata": {},
   "source": [
    "# Data Engineering Operations in Spark"
   ]
  },
  {
   "cell_type": "code",
   "execution_count": 2,
   "id": "b9b19ff2-a3e6-46c9-b5a5-4f915a77ce69",
   "metadata": {},
   "outputs": [
    {
     "name": "stdout",
     "output_type": "stream",
     "text": [
      "Requirement already satisfied: pyspark in /opt/anaconda3/lib/python3.10/site-packages (4.0.0)\n",
      "Requirement already satisfied: py4j==0.10.9.9 in /opt/anaconda3/lib/python3.10/site-packages (from pyspark) (0.10.9.9)\n",
      "Note: you may need to restart the kernel to use updated packages.\n"
     ]
    }
   ],
   "source": [
    "pip install pyspark"
   ]
  },
  {
   "cell_type": "markdown",
   "id": "a7742f20-1d9f-4349-b19d-58f8b65dc41f",
   "metadata": {},
   "source": [
    "### Install libraries"
   ]
  },
  {
   "cell_type": "code",
   "execution_count": 5,
   "id": "46344535-afec-4d62-8862-06fd99fcb310",
   "metadata": {},
   "outputs": [],
   "source": [
    "from pyspark.sql import SparkSession"
   ]
  },
  {
   "cell_type": "markdown",
   "id": "d4824aae-438e-4a55-93a3-fd8d28b36615",
   "metadata": {},
   "source": [
    "## 1.Read/Write data using Spark"
   ]
  },
  {
   "cell_type": "code",
   "execution_count": 21,
   "id": "b1fbe2a4-a581-4e54-b5d8-92e8c4673fc6",
   "metadata": {},
   "outputs": [
    {
     "name": "stdout",
     "output_type": "stream",
     "text": [
      "+-----------------+----------------+-----------------+----------------+------+------+\n",
      "|sepal length (cm)|sepal width (cm)|petal length (cm)|petal width (cm)|target| class|\n",
      "+-----------------+----------------+-----------------+----------------+------+------+\n",
      "|              5.1|             3.5|              1.4|             0.2|     0|setosa|\n",
      "|              4.9|             3.0|              1.4|             0.2|     0|setosa|\n",
      "|              4.7|             3.2|              1.3|             0.2|     0|setosa|\n",
      "|              4.6|             3.1|              1.5|             0.2|     0|setosa|\n",
      "|              5.0|             3.6|              1.4|             0.2|     0|setosa|\n",
      "|              5.4|             3.9|              1.7|             0.4|     0|setosa|\n",
      "|              4.6|             3.4|              1.4|             0.3|     0|setosa|\n",
      "|              5.0|             3.4|              1.5|             0.2|     0|setosa|\n",
      "|              4.4|             2.9|              1.4|             0.2|     0|setosa|\n",
      "|              4.9|             3.1|              1.5|             0.1|     0|setosa|\n",
      "|              5.4|             3.7|              1.5|             0.2|     0|setosa|\n",
      "|              4.8|             3.4|              1.6|             0.2|     0|setosa|\n",
      "|              4.8|             3.0|              1.4|             0.1|     0|setosa|\n",
      "|              4.3|             3.0|              1.1|             0.1|     0|setosa|\n",
      "|              5.8|             4.0|              1.2|             0.2|     0|setosa|\n",
      "|              5.7|             4.4|              1.5|             0.4|     0|setosa|\n",
      "|              5.4|             3.9|              1.3|             0.4|     0|setosa|\n",
      "|              5.1|             3.5|              1.4|             0.3|     0|setosa|\n",
      "|              5.7|             3.8|              1.7|             0.3|     0|setosa|\n",
      "|              5.1|             3.8|              1.5|             0.3|     0|setosa|\n",
      "+-----------------+----------------+-----------------+----------------+------+------+\n",
      "only showing top 20 rows\n",
      "+---------------+-----------+----------+-----------+----------+-------+\n",
      "|_corrupt_record|petalLength|petalWidth|sepalLength|sepalWidth|species|\n",
      "+---------------+-----------+----------+-----------+----------+-------+\n",
      "|              [|       NULL|      NULL|       NULL|      NULL|   NULL|\n",
      "|           NULL|        1.4|       0.2|        5.1|       3.5| setosa|\n",
      "|           NULL|        1.4|       0.2|        4.9|       3.0| setosa|\n",
      "|           NULL|        1.3|       0.2|        4.7|       3.2| setosa|\n",
      "|           NULL|        1.5|       0.2|        4.6|       3.1| setosa|\n",
      "|           NULL|        1.4|       0.2|        5.0|       3.6| setosa|\n",
      "|           NULL|        1.7|       0.4|        5.4|       3.9| setosa|\n",
      "|           NULL|        1.4|       0.3|        4.6|       3.4| setosa|\n",
      "|           NULL|        1.5|       0.2|        5.0|       3.4| setosa|\n",
      "|           NULL|        1.4|       0.2|        4.4|       2.9| setosa|\n",
      "|           NULL|        1.5|       0.1|        4.9|       3.1| setosa|\n",
      "|           NULL|        1.5|       0.2|        5.4|       3.7| setosa|\n",
      "|           NULL|        1.6|       0.2|        4.8|       3.4| setosa|\n",
      "|           NULL|        1.4|       0.1|        4.8|       3.0| setosa|\n",
      "|           NULL|        1.1|       0.1|        4.3|       3.0| setosa|\n",
      "|           NULL|        1.2|       0.2|        5.8|       4.0| setosa|\n",
      "|           NULL|        1.5|       0.4|        5.7|       4.4| setosa|\n",
      "|           NULL|        1.3|       0.4|        5.4|       3.9| setosa|\n",
      "|           NULL|        1.4|       0.3|        5.1|       3.5| setosa|\n",
      "|           NULL|        1.7|       0.3|        5.7|       3.8| setosa|\n",
      "+---------------+-----------+----------+-----------+----------+-------+\n",
      "only showing top 20 rows\n",
      "+----------+---+------+-------------------+------------------+-------------+-------------+--------------------+-----------+------------+------------------+--------------------+----------------+--------------------+--------------------+----------+\n",
      "|       _c0|_c1|   _c2|                _c3|               _c4|          _c5|          _c6|                 _c7|        _c8|         _c9|              _c10|                _c11|            _c12|                _c13|                _c14|      _c15|\n",
      "+----------+---+------+-------------------+------------------+-------------+-------------+--------------------+-----------+------------+------------------+--------------------+----------------+--------------------+--------------------+----------+\n",
      "|student_id|age|gender|study_hours_per_day|social_media_hours|netflix_hours|part_time_job|attendance_percen...|sleep_hours|diet_quality|exercise_frequency|parental_educatio...|internet_quality|mental_health_rating|extracurricular_p...|exam_score|\n",
      "|     S1000| 23|Female|                0.0|               1.2|          1.1|           No|                85.0|        8.0|        Fair|                 6|              Master|         Average|                   8|                 Yes|      56.2|\n",
      "|     S1001| 20|Female|                6.9|               2.8|          2.3|           No|                97.3|        4.6|        Good|                 6|         High School|         Average|                   8|                  No|     100.0|\n",
      "|     S1002| 21|  Male|                1.4|               3.1|          1.3|           No|                94.8|        8.0|        Poor|                 1|         High School|            Poor|                   1|                  No|      34.3|\n",
      "|     S1003| 23|Female|                1.0|               3.9|          1.0|           No|                71.0|        9.2|        Poor|                 4|              Master|            Good|                   1|                 Yes|      26.8|\n",
      "|     S1004| 19|Female|                5.0|               4.4|          0.5|           No|                90.9|        4.9|        Fair|                 3|              Master|            Good|                   1|                  No|      66.4|\n",
      "|     S1005| 24|  Male|                7.2|               1.3|          0.0|           No|                82.9|        7.4|        Fair|                 1|              Master|         Average|                   4|                  No|     100.0|\n",
      "|     S1006| 21|Female|                5.6|               1.5|          1.4|          Yes|                85.8|        6.5|        Good|                 2|              Master|            Poor|                   4|                  No|      89.8|\n",
      "|     S1007| 21|Female|                4.3|               1.0|          2.0|          Yes|                77.7|        4.6|        Fair|                 0|            Bachelor|         Average|                   8|                  No|      72.6|\n",
      "|     S1008| 23|Female|                4.4|               2.2|          1.7|           No|               100.0|        7.1|        Good|                 3|            Bachelor|            Good|                   1|                  No|      78.9|\n",
      "|     S1009| 18|Female|                4.8|               3.1|          1.3|           No|                95.4|        7.5|        Good|                 5|            Bachelor|            Good|                  10|                 Yes|     100.0|\n",
      "|     S1010| 19|Female|                4.6|               3.7|          0.8|           No|                77.6|        5.8|        Fair|                 1|                None|            Good|                   3|                  No|      63.3|\n",
      "|     S1011| 23|  Male|                3.9|               2.4|          2.5|           No|                71.7|        7.9|        Fair|                 2|            Bachelor|         Average|                   1|                  No|      74.4|\n",
      "|     S1012| 19|Female|                3.7|               2.1|          0.4|          Yes|                81.1|        4.5|        Fair|                 1|            Bachelor|            Good|                   9|                  No|      76.9|\n",
      "|     S1013| 19|Female|                3.4|               2.7|          2.7|           No|                89.3|        4.7|        Fair|                 4|            Bachelor|            Good|                  10|                  No|      75.8|\n",
      "|     S1014| 24|  Male|                2.4|               1.5|          0.7|           No|                87.4|        6.7|        Poor|                 6|            Bachelor|         Average|                   9|                  No|      78.9|\n",
      "|     S1015| 21|  Male|                3.1|               5.0|          1.0|           No|                97.5|        6.5|        Good|                 6|         High School|         Average|                   7|                  No|      74.0|\n",
      "|     S1016| 20|  Male|                1.0|               0.6|          0.2|           No|                92.9|        5.6|        Poor|                 3|         High School|            Poor|                   8|                 Yes|      55.2|\n",
      "|     S1017| 24|Female|                3.4|               2.7|          1.2|           No|                94.7|        7.5|        Poor|                 0|         High School|         Average|                   1|                 Yes|      70.8|\n",
      "|     S1018| 24| Other|                2.0|               4.9|          2.9|          Yes|                88.3|        7.1|        Good|                 2|         High School|            Good|                   5|                  No|      43.9|\n",
      "+----------+---+------+-------------------+------------------+-------------+-------------+--------------------+-----------+------------+------------------+--------------------+----------------+--------------------+--------------------+----------+\n",
      "only showing top 20 rows\n"
     ]
    }
   ],
   "source": [
    "#------read-parquet---------\n",
    "spark = SparkSession.builder.appName(\"file_operations\").master(\"local[*]\").getOrCreate()\n",
    "df_parquet = spark.read.parquet(\"data/parquet/parquet_data_iris.parquet\")\n",
    "df_parquet.show()\n",
    "#------read-json---------\n",
    "df_json = spark.read.json(\"data/json/iris.json\")\n",
    "df_json.show()\n",
    "#------read-csv---------\n",
    "df_csv = spark.read.csv(\"data/csv/performance.csv\")\n",
    "df_csv.show()\n",
    "\n",
    "#------for operation we took csv file for better data quality---------"
   ]
  },
  {
   "cell_type": "code",
   "execution_count": 23,
   "id": "93c5f384-a379-4e64-91dc-6d96e22213b8",
   "metadata": {},
   "outputs": [],
   "source": [
    "spark.stop()"
   ]
  },
  {
   "cell_type": "code",
   "execution_count": null,
   "id": "748b65b6-a561-4e92-9727-6a0b13e37033",
   "metadata": {},
   "outputs": [],
   "source": []
  }
 ],
 "metadata": {
  "kernelspec": {
   "display_name": "Python [conda env:base] *",
   "language": "python",
   "name": "conda-base-py"
  },
  "language_info": {
   "codemirror_mode": {
    "name": "ipython",
    "version": 3
   },
   "file_extension": ".py",
   "mimetype": "text/x-python",
   "name": "python",
   "nbconvert_exporter": "python",
   "pygments_lexer": "ipython3",
   "version": "3.10.16"
  }
 },
 "nbformat": 4,
 "nbformat_minor": 5
}
